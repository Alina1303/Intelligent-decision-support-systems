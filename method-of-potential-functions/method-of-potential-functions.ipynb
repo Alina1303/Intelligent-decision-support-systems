{
  "nbformat": 4,
  "nbformat_minor": 0,
  "metadata": {
    "colab": {
      "provenance": []
    },
    "kernelspec": {
      "name": "python3",
      "display_name": "Python 3"
    },
    "language_info": {
      "name": "python"
    }
  },
  "cells": [
    {
      "cell_type": "markdown",
      "source": [
        "**Загрузка библиотек**"
      ],
      "metadata": {
        "id": "BuV9fJvicRso"
      }
    },
    {
      "cell_type": "code",
      "execution_count": 1,
      "metadata": {
        "id": "xmH57XoJcRFg"
      },
      "outputs": [],
      "source": [
        "import matplotlib.pyplot as plt\n",
        "import numpy as np\n",
        "from openpyxl import load_workbook"
      ]
    },
    {
      "cell_type": "markdown",
      "source": [
        "**Чтение данных**"
      ],
      "metadata": {
        "id": "Ki0UeqQBcVPr"
      }
    },
    {
      "cell_type": "code",
      "source": [
        "def read_excel():\n",
        "    d = []\n",
        "    book = load_workbook(\"isx.xlsx\")\n",
        "    sheet = book.active\n",
        "    for i in range(1, 101):\n",
        "        result = []\n",
        "        for j in range(1, 101):\n",
        "            value = sheet.cell(row=i, column=j).value\n",
        "            result.append(value)\n",
        "        d.append(result)\n",
        "    return d\n",
        "\n",
        "A = read_excel()"
      ],
      "metadata": {
        "id": "IsQ0jnqXcXm8"
      },
      "execution_count": 3,
      "outputs": []
    },
    {
      "cell_type": "markdown",
      "source": [
        "**Выделение точек**"
      ],
      "metadata": {
        "id": "dwT-Xz7VcZcZ"
      }
    },
    {
      "cell_type": "code",
      "source": [
        "def quant(A, a, b):\n",
        "    X = [[],[]]\n",
        "    for i in range(0, 100):\n",
        "        for j in range(0, 100):\n",
        "            if a <= A[i][j] and A[i][j] <= b:\n",
        "                X[0].append(i)\n",
        "                X[1].append(j)\n",
        "    return X"
      ],
      "metadata": {
        "id": "191IlBQ8cjqr"
      },
      "execution_count": 4,
      "outputs": []
    },
    {
      "cell_type": "code",
      "source": [
        "X1 = quant(A, 0, 50)\n",
        "X2 = quant(A, 50, 200)"
      ],
      "metadata": {
        "id": "NLTHFRoXck5B"
      },
      "execution_count": 5,
      "outputs": []
    },
    {
      "cell_type": "markdown",
      "source": [
        "**Построение графика**"
      ],
      "metadata": {
        "id": "IZZt4BFCcm4R"
      }
    },
    {
      "cell_type": "code",
      "source": [
        "plt.plot(X1[0], X1[1], 'o', 'b')\n",
        "plt.plot(X2[0], X2[1], 'o', 'b', mfc='none')\n",
        "plt.xlabel('X1(1), X2(2)')\n",
        "plt.ylabel('X1(0), X2(0)')\n",
        "plt.show()"
      ],
      "metadata": {
        "colab": {
          "base_uri": "https://localhost:8080/",
          "height": 279
        },
        "id": "d5O_yDDfcoz8",
        "outputId": "629f40b1-e296-48ef-cd2e-3734e7d9e055"
      },
      "execution_count": 6,
      "outputs": [
        {
          "output_type": "display_data",
          "data": {
            "text/plain": [
              "<Figure size 432x288 with 1 Axes>"
            ],
            "image/png": "[encoded data removed]"
          },
          "metadata": {
            "needs_background": "light"
          }
        }
      ]
    },
    {
      "cell_type": "markdown",
      "source": [
        "**Определение множества прецедентов**"
      ],
      "metadata": {
        "id": "1P0aRXUccq0B"
      }
    },
    {
      "cell_type": "code",
      "source": [
        "def prec(A, b):\n",
        "    X = [[], [], []]\n",
        "    for i in range(0, 100):\n",
        "        for j in range(0, 100):\n",
        "            if A[i][j] != 255:\n",
        "                if A[i][j] <= b:\n",
        "                    X[0].append(i), X[1].append(j), X[2].append(1)\n",
        "                elif A[i][j] > b:\n",
        "                    X[0].append(i), X[1].append(j), X[2].append(-1)\n",
        "                continue\n",
        "    return X"
      ],
      "metadata": {
        "id": "w29sabTOcsLS"
      },
      "execution_count": 7,
      "outputs": []
    },
    {
      "cell_type": "code",
      "source": [
        "X = prec(A, 40)\n",
        "print('Множество прецедентов', X)"
      ],
      "metadata": {
        "colab": {
          "base_uri": "https://localhost:8080/"
        },
        "id": "Uq51Qj9bctng",
        "outputId": "00b830ed-6cfc-423e-831a-00e2731d543e"
      },
      "execution_count": 8,
      "outputs": [
        {
          "output_type": "stream",
          "name": "stdout",
          "text": [
            "Множество прецедентов [[10, 12, 14, 20, 44, 44, 68, 75, 76, 93, 98], [30, 98, 8, 74, 24, 58, 90, 2, 84, 20, 1], [-1, -1, 1, -1, -1, 1, -1, 1, -1, -1, 1]]\n"
          ]
        }
      ]
    },
    {
      "cell_type": "markdown",
      "source": [
        "**Вычисление дискриминантной функции методом потенциальных функций**"
      ],
      "metadata": {
        "id": "G9yjDnZucujq"
      }
    },
    {
      "cell_type": "markdown",
      "source": [
        "Задание метрики и потенциальной функции"
      ],
      "metadata": {
        "id": "4s625y1Hcw0J"
      }
    },
    {
      "cell_type": "code",
      "source": [
        "def u(x, y):\n",
        "    result2 = 1 / (1 + (x[0] - y[0])**2 + (x[1] - y[1])**2)\n",
        "    return result2"
      ],
      "metadata": {
        "id": "CqWwj0u7cyki"
      },
      "execution_count": 9,
      "outputs": []
    },
    {
      "cell_type": "markdown",
      "source": [
        "Вычисление дискриминантной функции"
      ],
      "metadata": {
        "id": "eLEHqdLcczmp"
      }
    },
    {
      "cell_type": "code",
      "source": [
        "def potential(X):\n",
        "    a = []\n",
        "    p = 0\n",
        "    for j in range(0, len(X[0])):\n",
        "        a.append(0)\n",
        "    while p < len(X[0]):\n",
        "        p = 0\n",
        "        for k in range(-1, len(X[0])-1):\n",
        "            r = 0\n",
        "            for j in range(0, len(X[0])):\n",
        "                r += a[j]*u((X[0][k+1], X[1][k+1]), (X[0][j], X[1][j]))\n",
        "            if (X[2][k+1] * r) <= 0:\n",
        "                a[k+1] += 1*X[2][k+1]\n",
        "                p += 1\n",
        "            else:\n",
        "                p += 1\n",
        "    return a"
      ],
      "metadata": {
        "id": "OIILFFGUc0jr"
      },
      "execution_count": 10,
      "outputs": []
    },
    {
      "cell_type": "code",
      "source": [
        "a = potential(X)\n",
        "print('Вектор коэффициентов решающей функции', a)"
      ],
      "metadata": {
        "colab": {
          "base_uri": "https://localhost:8080/"
        },
        "id": "OY7_BEXwc1-y",
        "outputId": "27e949be-3578-461c-dae4-d49f594e0569"
      },
      "execution_count": 11,
      "outputs": [
        {
          "output_type": "stream",
          "name": "stdout",
          "text": [
            "Вектор коэффициентов решающей функции [-1, 0, 1, 0, -1, 1, -1, 1, 0, -1, 1]\n"
          ]
        }
      ]
    },
    {
      "cell_type": "markdown",
      "source": [
        "Расчёт рещающей функции"
      ],
      "metadata": {
        "id": "Bhm6XfV-c3bI"
      }
    },
    {
      "cell_type": "code",
      "source": [
        "def D(y):\n",
        "    result = 0\n",
        "    for j in range(0, len(X[0])):\n",
        "        result += a[j] * u(y, (X[0][j], X[1][j]))\n",
        "    return result"
      ],
      "metadata": {
        "id": "R-ePbFoGc5Gi"
      },
      "execution_count": 12,
      "outputs": []
    },
    {
      "cell_type": "markdown",
      "source": [
        "**Визуализация решения**"
      ],
      "metadata": {
        "id": "F-Xh8gHJc7ez"
      }
    },
    {
      "cell_type": "code",
      "source": [
        "def D_result(NUM):\n",
        "    N = []\n",
        "    p = 0\n",
        "    for i in range(0, len(NUM)):\n",
        "        G = []\n",
        "        for j in range(0, len(NUM)):\n",
        "            if D((i, j)) >= 0:\n",
        "                p+=1\n",
        "                G.append(D((i, j)))\n",
        "            else:\n",
        "                p+=1\n",
        "                G.append(0)\n",
        "        N.append(G)\n",
        "    return np.asarray(N, dtype=np.float32)\n",
        "\n",
        "result_X = D_result(A)"
      ],
      "metadata": {
        "id": "H8Nugwwkc69q"
      },
      "execution_count": 13,
      "outputs": []
    },
    {
      "cell_type": "code",
      "source": [
        "def B_result(N):\n",
        "    result = []\n",
        "    for i in range(0, len(N)):\n",
        "        T = []\n",
        "        for j in range(0, len(N)):\n",
        "            sum = 0\n",
        "            for s in range(0, len(X[0])):\n",
        "                sum += ((X[0][s] - i)**2 + (X[1][s] - j)**2)\n",
        "            if sum <= 3:\n",
        "                T.append(0.000001)\n",
        "                print(sum)\n",
        "            else:\n",
        "                T.append(0)\n",
        "        result.append(T)\n",
        "    return np.asarray(result, dtype=np.float32)\n",
        "\n",
        "result_Y = B_result(A)"
      ],
      "metadata": {
        "id": "wbetMKStc-Pq"
      },
      "execution_count": 14,
      "outputs": []
    },
    {
      "cell_type": "code",
      "source": [
        "v = np.linspace(0, 100, 100)\n",
        "x, y = np.meshgrid(v, v)\n",
        "fig = plt.figure()\n",
        "ax_3D = fig.add_subplot(projection='3d')\n",
        "ax_3D.plot(X1[0], X1[1], 'o', color='blue')\n",
        "ax_3D.plot(X2[0], X2[1], 'o', color='blue')\n",
        "ax_3D.plot_wireframe(x, y, result_Y, rstride = 3, cstride = 3, color='red')\n",
        "ax_3D.plot_wireframe(x, y, result_X, rstride = 3, cstride = 3,color='yellow')\n",
        "ax_3D.set_xlabel('x')\n",
        "ax_3D.set_ylabel('y')\n",
        "ax_3D.set_zlabel('z')\n",
        "ax_3D.set_title('Визуализация решающей функции и прецедентов')\n",
        "plt.show()"
      ],
      "metadata": {
        "id": "XPAw_L_yc_zT",
        "outputId": "7118114a-69ec-449e-d941-d90c66e531be",
        "colab": {
          "base_uri": "https://localhost:8080/",
          "height": 248
        }
      },
      "execution_count": 15,
      "outputs": [
        {
          "output_type": "display_data",
          "data": {
            "text/plain": [
              "<Figure size 432x288 with 1 Axes>"
            ],
            "image/png": "[encoded data removed]"
          },
          "metadata": {
            "needs_background": "light"
          }
        }
      ]
    }
  ]
}